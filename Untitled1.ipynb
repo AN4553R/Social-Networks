{
 "cells": [
  {
   "cell_type": "markdown",
   "metadata": {},
   "source": [
    "# Assigenment 2"
   ]
  },
  {
   "cell_type": "code",
   "execution_count": null,
   "metadata": {},
   "outputs": [],
   "source": [
    "import networkx as nx\n",
    "import matplotlib.pyplot as plt\n",
    "import matplotlib.colors as colors\n",
    "import operator\n",
    "import random\n",
    "import warnings\n",
    "warnings.filterwarnings(\"ignore\", category=UserWarning)\n",
    "\n",
    "G = nx.read_gml('karate.gml',label='id')\n",
    "\n",
    "while True:\n",
    "    k = int(input())\n",
    "    if k <= len(G.nodes()) and k > 0:break \n",
    "    print(\"Number of possible clusters must be between 1 and %d\"%len(G.nodes()))\n",
    "\n",
    "# Clustering\n",
    "\n",
    "while nx.number_connected_components(G) < k:\n",
    "    w = nx.edge_betweenness_centrality(G)\n",
    "    mx=max(w.items(), key=operator.itemgetter(1))[0]\n",
    "    G.remove_edge(mx[0],mx[1])\n",
    "cnt = nx.number_connected_components(G)\n",
    "\n",
    "# Coloring\n",
    "\n",
    "color_map = [];\n",
    "\n",
    "a = list(colors.cnames.values())\n",
    "random.shuffle(a)\n",
    "clusters = list(nx.connected_components(G));\n",
    "\n",
    "for node in list(G.nodes()):\n",
    "    for i in range(0, len(clusters)):\n",
    "        if node in list(clusters[i]):\n",
    "            color_map.append(a[i]);\n",
    "\n",
    "nx.draw(G, node_color = color_map, with_labels = True);\n",
    "print(\"Number of connected components(clusters) = \",cnt)\n"
   ]
  },
  {
   "cell_type": "code",
   "execution_count": null,
   "metadata": {},
   "outputs": [],
   "source": []
  }
 ],
 "metadata": {
  "kernelspec": {
   "display_name": "Python 3",
   "language": "python",
   "name": "python3"
  },
  "language_info": {
   "codemirror_mode": {
    "name": "ipython",
    "version": 3
   },
   "file_extension": ".py",
   "mimetype": "text/x-python",
   "name": "python",
   "nbconvert_exporter": "python",
   "pygments_lexer": "ipython3",
   "version": "3.6.7"
  }
 },
 "nbformat": 4,
 "nbformat_minor": 2
}
