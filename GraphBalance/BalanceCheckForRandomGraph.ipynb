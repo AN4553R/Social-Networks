{
 "cells": [
  {
   "cell_type": "markdown",
   "metadata": {},
   "source": [
    "## Graph balance application\n",
    "#### Create a random connected graph with number of nodes in range $[L , R]$\n",
    "> How program works\n",
    "+ Run the play() function\n",
    "+ You gonna be asked to enter $L$ and $R$ (the nodes number range)\n",
    "+ You gonna be asked to enter the edges' weights positivity threshold\n",
    "    - The application will generate random number for each edge, and it's weight will be assigned to positive if this random number passes the threshould\n",
    "+ Finally, checking the graph balance through checking every possible triple edges\n",
    "    - _you can makesure using the plotted graph_ "
   ]
  },
  {
   "cell_type": "code",
   "execution_count": 27,
   "metadata": {},
   "outputs": [],
   "source": [
    "import networkx as nx\n",
    "import matplotlib.pyplot as plt\n",
    "import matplotlib.colors as colors\n",
    "import operator\n",
    "import random\n",
    "import warnings\n",
    "warnings.filterwarnings(\"ignore\", category=UserWarning)"
   ]
  },
  {
   "cell_type": "code",
   "execution_count": 28,
   "metadata": {},
   "outputs": [],
   "source": [
    "def read():\n",
    "    l, r = map(int,input(\"Enter left and right values for nodes range [l,r] \").split(\" \"))\n",
    "\n",
    "    numOfNodes = random.randint(l,r)\n",
    "    \n",
    "    lst = random.sample(range(1,100),numOfNodes)\n",
    "    \n",
    "    return lst"
   ]
  },
  {
   "cell_type": "code",
   "execution_count": 29,
   "metadata": {},
   "outputs": [],
   "source": [
    "def getThreshold():\n",
    "    \n",
    "    weightProbability = int(input(\"Enter weights positivity threshold, range [0,10]\"))\n",
    "    for (u,v,w) in G.edges(data=True):\n",
    "        roll = random.randint(0,10)\n",
    "        w['weight'] = 0 if (roll < weightProbability) else 1"
   ]
  },
  {
   "cell_type": "code",
   "execution_count": 33,
   "metadata": {},
   "outputs": [],
   "source": [
    "def chkBalance():\n",
    "    \n",
    "    edges,weights = zip(*nx.get_edge_attributes(G,'weight').items())\n",
    "    \n",
    "    flag = len(G.nodes()) > 2\n",
    "    \n",
    "    for i in range(0,len(weights)-2):\n",
    "        for j in range (i+1,len(weights)-1):\n",
    "            for k in range (j+1,len(weights)):\n",
    "                a, b, c = weights[i],weights[j],weights[k]\n",
    "                flag &= (a and b and c) or (a and not b and not c) or (b and not a and not c) or (c and not a and not b)\n",
    "    return \"Balanced Graph\" if flag else \"Unbalanced Graph\""
   ]
  },
  {
   "cell_type": "code",
   "execution_count": 31,
   "metadata": {},
   "outputs": [],
   "source": [
    "def showMe(theLabel):\n",
    "    \n",
    "    print(\"The graph has the following edges:\")\n",
    "    \n",
    "    for (u,v,w) in G.edges(data=True):\n",
    "        print(\"from\",u,\"to\",v,\", weight =\",w['weight'])\n",
    "            \n",
    "    pos = nx.spring_layout(G,k=len(G.nodes()))\n",
    "\n",
    "    labels = nx.get_edge_attributes(G,'weight')\n",
    "\n",
    "    for (k,v) in labels:\n",
    "       labels[k,v] = '+' if labels[k,v] == 1 else '-'\n",
    "\n",
    "    edges,weights = zip(*nx.get_edge_attributes(G,'weight').items())\n",
    "    \n",
    "    plt.title(theLabel)\n",
    "    \n",
    "    nx.draw(G,pos,node_color='pink',edgelist=edges,edge_color=weights, width=1.5, with_labels = True)\n",
    "\n",
    "    nx.draw_networkx_edge_labels(G,pos,edge_labels=labels)\n",
    "    \n",
    "    plt.show()"
   ]
  },
  {
   "cell_type": "markdown",
   "metadata": {},
   "source": [
    "## Run this below cell first"
   ]
  },
  {
   "cell_type": "code",
   "execution_count": 34,
   "metadata": {},
   "outputs": [
    {
     "name": "stdout",
     "output_type": "stream",
     "text": [
      "Enter left and right values for nodes range [l,r] 2 2\n",
      "Enter weights positivity threshold, range [0,10]2\n",
      "The graph has the following edges:\n",
      "from 35 to 26 , weight = 0\n"
     ]
    },
    {
     "data": {
      "image/png": "[encoded data removed]",
      "text/plain": [
       "<Figure size 432x288 with 1 Axes>"
      ]
     },
     "metadata": {},
     "output_type": "display_data"
    }
   ],
   "source": [
    "nodes = read()\n",
    "\n",
    "G = nx.complete_graph(nodes)\n",
    "\n",
    "getThreshold()\n",
    "\n",
    "showMe(chkBalance())"
   ]
  },
  {
   "cell_type": "code",
   "execution_count": null,
   "metadata": {},
   "outputs": [],
   "source": []
  }
 ],
 "metadata": {
  "kernelspec": {
   "display_name": "Python 3",
   "language": "python",
   "name": "python3"
  },
  "language_info": {
   "codemirror_mode": {
    "name": "ipython",
    "version": 3
   },
   "file_extension": ".py",
   "mimetype": "text/x-python",
   "name": "python",
   "nbconvert_exporter": "python",
   "pygments_lexer": "ipython3",
   "version": "3.6.7"
  }
 },
 "nbformat": 4,
 "nbformat_minor": 2
}
